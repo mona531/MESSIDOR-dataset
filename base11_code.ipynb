{
 "cells": [
  {
   "cell_type": "code",
   "execution_count": 24,
   "id": "7a6ed695",
   "metadata": {},
   "outputs": [],
   "source": [
    "import pandas as pd\n",
    "import os\n",
    "import shutil"
   ]
  },
  {
   "cell_type": "code",
   "execution_count": 25,
   "id": "ecc3ab4f",
   "metadata": {},
   "outputs": [],
   "source": [
    "filename_arr=os.listdir(r\"C:\\Users\\hp\\Base11\\Base11\")"
   ]
  },
  {
   "cell_type": "code",
   "execution_count": 27,
   "id": "444d9ec2",
   "metadata": {},
   "outputs": [],
   "source": [
    "df=pd.read_csv(r'Annotation_Base11.csv')"
   ]
  },
  {
   "cell_type": "code",
   "execution_count": 34,
   "id": "57aa3d16",
   "metadata": {},
   "outputs": [],
   "source": [
    "for x in filename_arr:\n",
    "    for i in range(len(df['Image name'])):\n",
    "        if df.iat[i,0]==x:\n",
    "            src=\"C:/Users/hp/Base11/Base11/\"+x\n",
    "            if df.iat[i,1]==0:\n",
    "                dst=\"C:/Users/hp/Base11/0\"\n",
    "            if df.iat[i,1]==1:\n",
    "                dst=\"C:/Users/hp/Base11/1\"\n",
    "            if df.iat[i,1]==2:\n",
    "                dst=\"C:/Users/hp/Base11/2\"\n",
    "            if df.iat[i,1]==3:\n",
    "                dst=\"C:/Users/hp/Base11/3\"\n",
    "            shutil.copy(src,dst)"
   ]
  },
  {
   "cell_type": "code",
   "execution_count": null,
   "id": "613697c3",
   "metadata": {},
   "outputs": [],
   "source": []
  }
 ],
 "metadata": {
  "kernelspec": {
   "display_name": "Python 3 (ipykernel)",
   "language": "python",
   "name": "python3"
  },
  "language_info": {
   "codemirror_mode": {
    "name": "ipython",
    "version": 3
   },
   "file_extension": ".py",
   "mimetype": "text/x-python",
   "name": "python",
   "nbconvert_exporter": "python",
   "pygments_lexer": "ipython3",
   "version": "3.9.7"
  }
 },
 "nbformat": 4,
 "nbformat_minor": 5
}
